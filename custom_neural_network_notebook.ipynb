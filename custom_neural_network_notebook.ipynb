{
 "cells": [
  {
   "cell_type": "raw",
   "metadata": {},
   "source": [
    "Two distinctive features of this particular code is that 1) you can vary the number of layers and output neurons and 2) the training samples are completely vectorised.\n",
    "\n",
    "This notebook will go through how the n-layer, m-output (n and m are varying integers) neural network works. This is a fully vectorised network, meaning that the use of for-loops is replaced with numpy vectors whenever possible to reduce the run-time.\n",
    "\n",
    "First let's visualise the digits that need to be classied. Below is an example of a \"9\"."
   ]
  },
  {
   "cell_type": "code",
   "execution_count": 1,
   "metadata": {},
   "outputs": [
    {
     "data": {
      "image/png": "[encoded data removed]",
      "text/plain": [
       "<IPython.core.display.Image object>"
      ]
     },
     "execution_count": 1,
     "metadata": {},
     "output_type": "execute_result"
    }
   ],
   "source": [
    "from IPython.display import Image\n",
    "Image(filename='training_data/image3.png')"
   ]
  },
  {
   "cell_type": "raw",
   "metadata": {},
   "source": [
    "The first thing we need to do is to read the image files into a variable. Then we need to flatten the image data so that it is 1-dimensional, and then divide by 255 so only 1's and 0's remain."
   ]
  },
  {
   "cell_type": "code",
   "execution_count": 39,
   "metadata": {},
   "outputs": [],
   "source": [
    "import glob\n",
    "import cv2\n",
    "import numpy as np\n",
    "\n",
    "data_files = [file for file in sorted(glob.glob(\"training_data/*.png\"))] \n",
    "# sort the files based on file name\n",
    "\n",
    "data_files = sorted(data_files, key=lambda name: int(name[19:-4]))\n",
    "\n",
    "# combine RGB channels to form black-and-white image\n",
    "data = [np.asarray(cv2.cvtColor(cv2.imread(file), cv2.COLOR_BGR2GRAY)) for file in data_files]\n",
    "\n",
    "for i in range(0,len(data)):\n",
    "    data[i] = np.asarray(data[i], dtype=np.uint32).flatten() / 255\n",
    "\n",
    "data = np.asarray(data)\n",
    "data = np.asarray((data.T - np.mean(data.T))/(np.std(data.T))).T"
   ]
  },
  {
   "cell_type": "raw",
   "metadata": {},
   "source": [
    "Now the corresponding labels need to be read too. However as you can see the sample is very imbalanced, with many more 2's than other digits. "
   ]
  },
  {
   "cell_type": "code",
   "execution_count": 40,
   "metadata": {},
   "outputs": [
    {
     "name": "stdout",
     "output_type": "stream",
     "text": [
      "0 count:  33\n",
      "1 count:  114\n",
      "2 count:  55\n",
      "3 count:  34\n",
      "4 count:  23\n",
      "5 count:  33\n",
      "6 count:  28\n",
      "7 count:  18\n",
      "8 count:  34\n",
      "9 count:  28\n"
     ]
    }
   ],
   "source": [
    "y_data1 = [1,0,9,1,1,0,1,8,3,5,1,5,3,1,6,8,7,1,8,0,1,1,9,8,1,7,6,9,0,2,0,3,2,2,0,9,4,2,7,2,0,3,7,1,8,0,1,6,3,2,1,5,4,1,4,2,1,0,2,1,6,9,6,1,2,2,1,9,1,3,5,8,1,7,2,2,1,5,2,0,4,3,1,3,2,3,9,4,5,1,7,1,3,6,3,6,1,2,4,2,0,5,2,2,1,1,7,1,1,5,6,1,8,8,2,2,1,1,5,6,1,2,4,1,3,7,1,8,6,4,2,5,7,5,8,1,9,2,0,6,2,1,3,6,1,5,3,1,0,5,5,1,2,1,2,1,8,6,1,8,2,1,0,4,1,0,3,1,3,1,2,1,1,2,4,3,8,4,1,9,2,1,9,0,1,8,8,1,0,9,1,0,0,5,6,1,5,2,2,0,1,5,3,5,3,6,2,8,1,1,3,1,1,6,1,3,8,1,2,9,1,5,2,1,1,1,2,1,9,5,2,1,8,9,1,0,3,5,4,9,1,5,2,1,5,9,2,0,9,1,7,1,2,4,1,5,7,1,8,0,3,5,1,8,8,2,1,2,1,2,6,8,9,1,3,1,5,8,1,4,6,1,4,8,7,3,4,8,3,1,1,8,9,1,4,2,1,3,6,1,6,6,9,1,2,4,1,9,9,9,2,1,0,0,1,4,0,1,4,9,1,6,1,4,5,7,1,1,3,4,3,8,2,1,5,1,0,3,1,4,9,7,7,1,2,0,1,2,5,6,6,8,2,3,1,0,9,1,1,6,8,5,1,9,5,7,7,1,8,1,1,0,8,1,2,8,1,2,8,6,2,1,9,7,1,8,3,3,6,1,1,0,5,5,2,0,0,6,3,2]\n",
    "print(\"0 count: \", y_data1.count(0))\n",
    "print(\"1 count: \", y_data1.count(1))\n",
    "print(\"2 count: \", y_data1.count(2))\n",
    "print(\"3 count: \", y_data1.count(3))\n",
    "print(\"4 count: \", y_data1.count(4))\n",
    "print(\"5 count: \", y_data1.count(5))\n",
    "print(\"6 count: \", y_data1.count(6))\n",
    "print(\"7 count: \", y_data1.count(7))\n",
    "print(\"8 count: \", y_data1.count(8))\n",
    "print(\"9 count: \", y_data1.count(9))"
   ]
  },
  {
   "cell_type": "raw",
   "metadata": {},
   "source": [
    "Before moving on to the training of the network, the data needs to be balanced. However we must make sure that the order of the images and their corresponding labels are maintained when doing so, which makes it a little more tricky. "
   ]
  },
  {
   "cell_type": "code",
   "execution_count": 41,
   "metadata": {},
   "outputs": [
    {
     "name": "stdout",
     "output_type": "stream",
     "text": [
      "0 new count:  99\n",
      "1 new count:  114\n",
      "2 new count:  110\n",
      "3 new count:  102\n",
      "4 new count:  115\n",
      "5 new count:  99\n",
      "6 new count:  112\n",
      "7 new count:  108\n",
      "8 new count:  102\n",
      "9 new count:  112\n"
     ]
    }
   ],
   "source": [
    "import copy\n",
    "\n",
    "reorder = zip(y_data1, data)\n",
    "reorder = sorted(reorder, key=lambda k: k[0])\n",
    "head = []\n",
    "for i in range(0,10):\n",
    "\thead.append([])\n",
    "for item in reorder:\n",
    "\tindex = item[0]\n",
    "\thead[index].append(item)\n",
    "\n",
    "back = list(zip(*reorder))\n",
    "y_data1 = back[0]\n",
    "data = back[1]\n",
    "count = [y_data1.count(i)/len(y_data1) for i in range(0,10)]\n",
    "maxi = max(count)\n",
    "multiple = [maxi/count[i] for i in range(0,10)]\n",
    "\n",
    "for i in range(len(multiple)):\n",
    "\tmult = multiple[i]\n",
    "\tmult = int(round(mult))-1\n",
    "\tcop = copy.deepcopy(head[i])\n",
    "\tfor j in range(mult):\n",
    "\t\ttemp = cop\n",
    "\t\tfor item in temp:\n",
    "\t\t\thead[i].append(item)\n",
    "i = 0\n",
    "for line in head:\n",
    "    print(str(i) + \" new count: \", len(line))\n",
    "    i += 1\n",
    "    \n",
    "whole = []\n",
    "for i in range(0,10):\n",
    "\tfor j in range(len(head[i])):\n",
    "\t\twhole.append(head[i][j])\n",
    "\n",
    "y_data1 = list(zip(*whole))[0]\n",
    "data = list(zip(*whole))[1]\n"
   ]
  },
  {
   "cell_type": "raw",
   "metadata": {},
   "source": [
    "Now we shuffle the data (in case we only want to train with a subset of the sample) - again, the zip function is here to make sure that the images and their corresponding labels don't become mixed up)."
   ]
  },
  {
   "cell_type": "code",
   "execution_count": 42,
   "metadata": {},
   "outputs": [
    {
     "name": "stdout",
     "output_type": "stream",
     "text": [
      "300\n",
      "1073\n"
     ]
    }
   ],
   "source": [
    "import random\n",
    "\n",
    "c = list(zip(y_data1, data))\n",
    "random.shuffle(c)\n",
    "y_data1, data = zip(*c)\n",
    "\n",
    "batch_size = 300\n",
    "\n",
    "y_data = y_data1[:batch_size]\n",
    "print(len(y_data))\n",
    "print(len(data))"
   ]
  },
  {
   "cell_type": "raw",
   "metadata": {},
   "source": [
    "Perform one-hot encoding on y_data. "
   ]
  },
  {
   "cell_type": "code",
   "execution_count": 43,
   "metadata": {},
   "outputs": [],
   "source": [
    "from keras.utils import np_utils\n",
    "\n",
    "y_data = np_utils.to_categorical(y_data)\n",
    "\n",
    "Y = []\n",
    "# since one hot encoding has been performed on y_data it is useful to keep the labels of the y data in a separate array\n",
    "y_labels = []\n",
    "for y in y_data:\n",
    "    Y.append([y])\n",
    "    y_labels.append(list(y).index(1))\n",
    "Y = np.asarray(Y).squeeze()"
   ]
  },
  {
   "cell_type": "raw",
   "metadata": {},
   "source": [
    "The training data and labels are now ready to be input into the network for training. From the input shape below we see that there are 400 training samples, each sample being a 840-sized numpy array."
   ]
  },
  {
   "cell_type": "code",
   "execution_count": 44,
   "metadata": {},
   "outputs": [
    {
     "name": "stdout",
     "output_type": "stream",
     "text": [
      "Input shape:  (300, 840)\n"
     ]
    }
   ],
   "source": [
    "input_vec = data[:batch_size]\n",
    "print(\"Input shape: \", np.asarray(input_vec).shape)\n",
    "\n",
    "training_samples = len(input_vec)\n",
    "dimension = len(input_vec[0])"
   ]
  },
  {
   "cell_type": "raw",
   "metadata": {},
   "source": [
    "Below are the functions and classes required in order to run \"forward propagate\" and \"back propagate\" later"
   ]
  },
  {
   "cell_type": "code",
   "execution_count": 45,
   "metadata": {},
   "outputs": [],
   "source": [
    "class Weights:\n",
    "\tdef __init__(self, dimension, length):\n",
    "\t\tself.dimension = dimension\n",
    "\t\tself.length = length\n",
    "\t\t\n",
    "\tdef create(self):\n",
    "\t\tself.weights = np.random.uniform(-0.01,0.01,(self.dimension, self.length))\n",
    "\t\t#self.weights = np.random.rand(self.dimension, self.length)\n",
    "\t\treturn self.weights\n",
    "\n",
    "class Bias:\n",
    "\tdef __init__(self, length):\n",
    "\t\tself.length = length\n",
    "\tdef create(self):\n",
    "\t\treturn np.random.uniform(-0.001, 0.001, (self.length, 1))\n",
    "\n",
    "def initialise_weights(layers, output=10):\n",
    "\t# Includes output layer i.e. single neuron \n",
    "\tweights = []\n",
    "\tbias = []\n",
    "\tfor i in range(layers):\n",
    "\t\tif i == layers-1:\n",
    "\t\t\tlayer = Weights(output, dimension+10).create()\n",
    "\t\t\tb = Bias(output).create()\n",
    "\t\telif i == 0:\n",
    "\t\t\tlayer = Weights(dimension+10, dimension).create()\n",
    "\t\t\tb = Bias(dimension+10).create()\n",
    "\t\telse:\n",
    "\t\t\tlayer = Weights(dimension+10, dimension+10).create()\n",
    "\t\t\tb = Bias(dimension+10).create()\n",
    "\t\tweights.append(layer)\n",
    "\t\tbias.append(b)\n",
    "\n",
    "\treturn np.asarray(weights), np.asarray(bias)\n",
    "\n",
    "def relu(x):\n",
    "\tif x >= 0:\n",
    "\t\treturn x\n",
    "\telse:\n",
    "\t\treturn 0.1*x\n",
    "\n",
    "def relu_gradient(x):\n",
    "\tif x >= 0:\n",
    "\t\treturn 1\n",
    "\telse:\n",
    "\t\treturn 0.1\n",
    "\n",
    "def sigmoid(x):\n",
    "\tx = np.clip(x, -100, 100)\n",
    "\treturn 1/(1+np.exp(-x))\n",
    "\n",
    "def sigmoid_gradient(x):\n",
    "\treturn sigmoid(x)*(1-sigmoid(x))\n",
    "\n",
    "def loss(y, a):\n",
    "\t#return np.sum(y*np.log(a)+(1-y)*np.log(a-1))/len(y)\n",
    "\treturn np.sum(np.square(y-a))/len(y)\n",
    "\n",
    "def softmax(x):\n",
    "\tlarge = np.asarray([[item.max() for item in x]]).T \n",
    "\tx = x - large\n",
    "\ttotal = np.sum(np.exp(x), axis=1).reshape(batch_size,1)\n",
    "\treturn np.exp(x) / total\n",
    "\n",
    "def softmax_gradient(x):\n",
    "\tM = []\n",
    "\tQ = softmax(x)\n",
    "\tfor k in range(len(x)):\n",
    "\t\tp = Q[k]\n",
    "\t\tjacobian = np.diag(p*(1-p))\n",
    "\t\tfor i in range(len(jacobian)):\n",
    "\t\t\tfor j in range(len(jacobian)):\n",
    "\t\t\t\tif i == j:\n",
    "\t\t\t\t\tcontinue\n",
    "\t\t\t\telse:\n",
    "\t\t\t\t\tjacobian[i][j] = -p[i]*p[j]\n",
    "\t\tM.append(jacobian)\n",
    "\treturn np.asarray(M)\n",
    "\n",
    "def cross_entropy_loss(Y, A):\n",
    "\treturn np.sum(-np.log(A)*Y)/len(A)\n",
    "\n",
    "def optimize(weights, dw, bias, db, step_size=0.0001):\n",
    "\tdw = np.asarray(dw)\n",
    "\tdb = np.asarray(db)\n",
    "\tweights -= step_size*dw\n",
    "\tbias -= step_size*db\n",
    "\treturn weights, bias"
   ]
  },
  {
   "cell_type": "raw",
   "metadata": {},
   "source": [
    "Now forward_propagate. Again, this code is completely vectorized - the only place where a for-loop is used is when data is passed from one layer to the next. The values are multiplied together using the dot product, rather than a loop that multiplies and adds the values up one neuron at a time.\n",
    "\n",
    "This code is specially designed so that the number of layers and the number of output neurons can be varied.\n",
    "\n",
    "The leaky-relu function is used as the activation function because the \"relu\" part solves the vanishing gradient problem that is common for sigmoid functions and the \"leaky\" part solves the zero-gradient problem that is common in relu functions."
   ]
  },
  {
   "cell_type": "code",
   "execution_count": 46,
   "metadata": {},
   "outputs": [],
   "source": [
    "def forward_propagate(x, weights, bias):\n",
    "\tx = np.asarray(x)\n",
    "\t\n",
    "\tZ = []\n",
    "\tA = []\n",
    "\n",
    "\tfor i in range(len(weights)):\n",
    "\t\tif i == 0:\n",
    "\t\t\tz = np.dot(x, weights[i].T) + bias[i].T \n",
    "\t\t\n",
    "\t\telse:\n",
    "\t\t\tz = np.dot(A[i-1], weights[i].T) + bias[i].T\n",
    "\t\tif i == len(weights)-1:\n",
    "\t\t\ta = softmax(z)\n",
    "\t\telse:\n",
    "\t\t\tactivate = np.vectorize(relu)\n",
    "\t\t\ta = activate(z)\n",
    "\t\tZ.append(z)\n",
    "\t\tA.append(a)\n",
    "\t\n",
    "\treturn (Z, A, weights, bias)"
   ]
  },
  {
   "cell_type": "raw",
   "metadata": {},
   "source": [
    "Similarly backpropagation must be designed so that it works for m > 1 number of hidden-layers and n > 0 number of output neurons.\n",
    "\n",
    "Backpropagate here uses the cross-entropy loss as the loss function, which is the default function for softmax classification tasks."
   ]
  },
  {
   "cell_type": "code",
   "execution_count": 47,
   "metadata": {},
   "outputs": [],
   "source": [
    "def back_propagate(X, Z, A, weights, bias, Y):\n",
    "    # in case there is a zero\n",
    "\tA = [np.where(A[i]==0, 1e-15,A[i]) for i in range(len(A))]\n",
    "\terror = cross_entropy_loss(Y, A[-1])\n",
    "\tterm = (Y/-A[-1])\n",
    "\tDW = []\n",
    "\tDB = []\n",
    "\tfor i in range(len(weights)-1,-1,-1):\n",
    "\t\tif i == 0:\n",
    "\t\t\tdz = np.asarray(X)\n",
    "\t\t\tf = np.ones((batch_size,1))\n",
    "\t\telse:\n",
    "\t\t\tdz = A[i-1]\n",
    "\t\t\tf = np.ones((batch_size,1))\n",
    "\t\tif i == len(weights)-1:\n",
    "\t\t\tda = softmax_gradient(Z[-1])\n",
    "\t\t\tterm = np.asarray([np.dot(term[i], da[i]) for i in range(len(da))])\n",
    "\t\t\tdw = np.dot(term.T, dz)\n",
    "\t\t\tdb = np.dot(term.T, f)\n",
    "\t\telse:\n",
    "\t\t\tgradient = np.vectorize(relu_gradient)\n",
    "\t\t\tda = gradient(Z[i])\n",
    "\t\t\tdw = np.dot((term* da).T, (dz))\n",
    "\t\t\tdb = np.dot((term*da).T, (f))\n",
    "\t\t\tterm = term*da\n",
    "\n",
    "\t\tDW.append(dw)\n",
    "\t\tDB.append(db)\n",
    "\t\tdzda = weights[i] \n",
    "\t\tterm = np.dot(term, dzda)\n",
    "\n",
    "\treturn list(reversed(DW)), list(reversed(DB)), error"
   ]
  },
  {
   "cell_type": "raw",
   "metadata": {},
   "source": [
    "Now the actual training. First the weights and biases are initialised to small random values. \n",
    "\n",
    "This will be a 3-layer neural network with 10 output neurons (used as input in the weight initialization). \n",
    "\n",
    "The step size will be 0.0001, and the training will run for 1000 iterations (each iteration will include all 400 training examples). A small step-size is chosen to ensure that the error curve below is smooth."
   ]
  },
  {
   "cell_type": "code",
   "execution_count": 50,
   "metadata": {},
   "outputs": [
    {
     "data": {
      "image/png": "[encoded data removed]",
      "text/plain": [
       "<matplotlib.figure.Figure at 0x182e009198>"
      ]
     },
     "metadata": {},
     "output_type": "display_data"
    },
    {
     "name": "stdout",
     "output_type": "stream",
     "text": [
      "error:  0.0281199299081966\n"
     ]
    }
   ],
   "source": [
    "from livelossplot import PlotLosses\n",
    "\n",
    "weights, bias = initialise_weights(3, output=10)\n",
    "step = 0.0001\n",
    "\n",
    "liveplot = PlotLosses()\n",
    "\n",
    "for i in range(600):\n",
    "    \n",
    "    print(\"iteration: \", i)\n",
    "    forward_output = forward_propagate(input_vec, weights, bias)\n",
    "    Z, A, weights, bias = forward_output\n",
    "\n",
    "\n",
    "    output = [list(Z[-1][a]).index(max(list(Z[-1][a]))) for a in range(len(Z[-1]))]\n",
    "    test = y_data1[:batch_size]\n",
    "   \n",
    "    remain = np.array(output) - np.array(test)\n",
    "    \n",
    "    # values will cancel to 0 if they are the same i.e. correct\n",
    "    right = (batch_size - remain.tolist().count(0))/batch_size*100\n",
    "    print(\"Wrong: \" + str(right) + \"%\")\n",
    "\n",
    "    dw, db, error = back_propagate(input_vec, Z, A, weights, bias, Y)\n",
    "    \n",
    "    liveplot.update({\n",
    "        'cross-entropy loss': error\n",
    "    })\n",
    "    liveplot.draw()\n",
    "    \n",
    "    print(\"error: \", error)\n",
    "\n",
    "    new_weights, new_bias = optimize(weights, dw, bias, db, step_size=step)\n",
    "    weights = new_weights\n",
    "    bias = new_bias\n"
   ]
  },
  {
   "cell_type": "raw",
   "metadata": {},
   "source": [
    "As you can see the error function converges and settles at a loss of 0.03 from >2.0. This neural network is not 100% accurate but there are many improvements that can be made, such as including drop-out weights and using ridge-regression to prevent over-fitting. Using convolutions/kernals for feature learning will also improve the accuracy. \n",
    "\n",
    "The weights and biases can be written to a json file so it can be reused later on."
   ]
  },
  {
   "cell_type": "code",
   "execution_count": null,
   "metadata": {},
   "outputs": [],
   "source": []
  },
  {
   "cell_type": "code",
   "execution_count": null,
   "metadata": {},
   "outputs": [],
   "source": []
  }
 ],
 "metadata": {
  "kernelspec": {
   "display_name": "Python 3",
   "language": "python",
   "name": "python3"
  },
  "language_info": {
   "codemirror_mode": {
    "name": "ipython",
    "version": 3
   },
   "file_extension": ".py",
   "mimetype": "text/x-python",
   "name": "python",
   "nbconvert_exporter": "python",
   "pygments_lexer": "ipython3",
   "version": "3.6.4"
  }
 },
 "nbformat": 4,
 "nbformat_minor": 2
}
